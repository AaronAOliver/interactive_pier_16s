{
  "cells": [
    {
      "cell_type": "markdown",
      "metadata": {
        "id": "view-in-github",
        "colab_type": "text"
      },
      "source": [
        "<a href=\"https://colab.research.google.com/github/Gibbons-Lab/isb_course_2023/blob/main/16S_2023.ipynb\" target=\"_parent\"><img src=\"https://colab.research.google.com/assets/colab-badge.svg\" alt=\"Open In Colab\"/></a>"
      ]
    },
    {
      "cell_type": "markdown",
      "metadata": {
        "id": "nQRlv0ypvthh"
      },
      "source": [
        "# 🦠 Amplicon Sequencing Data Analysis with Qiime 2\n",
        "\n",
        "This notebook will accompany the first session of the 2023 ISB Virtual Microbiome Series. The presentation slides can be [found here](https://gibbons-lab.github.io/isb_course_2023/16S).\n",
        "\n",
        "Save your own local copy of this notebook by using `File > Save a copy in Drive`. At some point you may be prompted to trust the notebook. We promise that it is safe 🤞\n",
        "\n",
        "**Disclaimer:**\n",
        "\n",
        "The Google Colab notebook environment will interpret any command as Python code by default. If we want to run bash commands we will have to prefix them by `!`. So any command you see with a leading `!` is a bash command and if you wanted to run it in your terminal you would omit the `!`. For example, if in the Colab notebook you ran `!wget` you would just run `wget` in your terminal.\n",
        "\n",
        "## Setup\n",
        "\n",
        "QIIME 2 is usually installed by following the [official installation instructions](https://docs.qiime2.org/2023.7/install/). However, because we are using Google Colab and there are some caveats to using conda here, we will have to hack around the installation a little bit. But no worries, we provide a setup script below which does all this work for us. 😌\n",
        "\n",
        "So...let's start by pulling a local copy of the project repository down from GitHub."
      ]
    },
    {
      "cell_type": "code",
      "execution_count": 1,
      "metadata": {
        "id": "QFsZdvOuvZmq",
        "outputId": "0fb7981c-f33d-46aa-baf2-85b4052afb9b",
        "colab": {
          "base_uri": "https://localhost:8080/"
        }
      },
      "outputs": [
        {
          "output_type": "stream",
          "name": "stdout",
          "text": [
            "Cloning into 'materials'...\n",
            "remote: Enumerating objects: 403, done.\u001b[K\n",
            "remote: Counting objects: 100% (47/47), done.\u001b[K\n",
            "remote: Compressing objects: 100% (35/35), done.\u001b[K\n",
            "remote: Total 403 (delta 20), reused 29 (delta 11), pack-reused 356\u001b[K\n",
            "Receiving objects: 100% (403/403), 174.87 MiB | 24.33 MiB/s, done.\n",
            "Resolving deltas: 100% (64/64), done.\n",
            "Updating files: 100% (511/511), done.\n"
          ]
        }
      ],
      "source": [
        "!git clone https://github.com/gibbons-lab/isb_course_2023 materials"
      ]
    },
    {
      "cell_type": "markdown",
      "metadata": {
        "id": "2eenIEY76mcv"
      },
      "source": [
        "We will switch to working within the `materials` directory for the rest of the notebook."
      ]
    },
    {
      "cell_type": "code",
      "execution_count": 2,
      "metadata": {
        "id": "h3NALJ7u6mBP",
        "outputId": "7506c2c5-fa0f-42b2-9d1b-16be49a44a3e",
        "colab": {
          "base_uri": "https://localhost:8080/"
        }
      },
      "outputs": [
        {
          "output_type": "stream",
          "name": "stdout",
          "text": [
            "/content/materials\n"
          ]
        }
      ],
      "source": [
        "%cd materials"
      ]
    },
    {
      "cell_type": "markdown",
      "metadata": {
        "id": "fQVnDjFauZ-n"
      },
      "source": [
        "Now we are ready to set up our environment. This will take about 10-15 minutes.\n",
        "\n",
        "**Note**: This setup is only relevant for Google Colaboratory and will not work on your local machine. Please follow the [official installation instructions](https://docs.qiime2.org/2021.8/install/) for that."
      ]
    },
    {
      "cell_type": "code",
      "execution_count": 3,
      "metadata": {
        "id": "BAyTazMCvrpf",
        "outputId": "23400ba3-d824-41b5-8814-be8b10aa70ad",
        "colab": {
          "base_uri": "https://localhost:8080/",
          "height": 267
        }
      },
      "outputs": [
        {
          "output_type": "display_data",
          "data": {
            "text/plain": [
              "\u001b[2;36m[21:52:37]\u001b[0m\u001b[2;36m \u001b[0m🐍 Downloading miniconda\u001b[33m...\u001b[0m                                                              \u001b]8;id=884096;file:///content/materials/setup_qiime2\u001b\\\u001b[2msetup_qiime2\u001b[0m\u001b]8;;\u001b\\\u001b[2m:\u001b[0m\u001b]8;id=842078;file:///content/materials/setup_qiime2#59\u001b\\\u001b[2m59\u001b[0m\u001b]8;;\u001b\\\n"
            ],
            "text/html": [
              "<pre style=\"white-space:pre;overflow-x:auto;line-height:normal;font-family:Menlo,'DejaVu Sans Mono',consolas,'Courier New',monospace\"><span style=\"color: #7fbfbf; text-decoration-color: #7fbfbf\">[21:52:37] </span>🐍 Downloading miniconda<span style=\"color: #808000; text-decoration-color: #808000\">...</span>                                                              <a href=\"file:///content/materials/setup_qiime2\" target=\"_blank\"><span style=\"color: #7f7f7f; text-decoration-color: #7f7f7f\">setup_qiime2</span></a><span style=\"color: #7f7f7f; text-decoration-color: #7f7f7f\">:</span><a href=\"file:///content/materials/setup_qiime2#59\" target=\"_blank\"><span style=\"color: #7f7f7f; text-decoration-color: #7f7f7f\">59</span></a>\n",
              "</pre>\n"
            ]
          },
          "metadata": {}
        },
        {
          "output_type": "display_data",
          "data": {
            "text/plain": [
              "\u001b[2;36m[21:52:38]\u001b[0m\u001b[2;36m \u001b[0m\u001b[34m🐍 Done.\u001b[0m                                                                                 \u001b]8;id=584210;file:///content/materials/setup_qiime2\u001b\\\u001b[2msetup_qiime2\u001b[0m\u001b]8;;\u001b\\\u001b[2m:\u001b[0m\u001b]8;id=153445;file:///content/materials/setup_qiime2#65\u001b\\\u001b[2m65\u001b[0m\u001b]8;;\u001b\\\n"
            ],
            "text/html": [
              "<pre style=\"white-space:pre;overflow-x:auto;line-height:normal;font-family:Menlo,'DejaVu Sans Mono',consolas,'Courier New',monospace\"><span style=\"color: #7fbfbf; text-decoration-color: #7fbfbf\">[21:52:38] </span><span style=\"color: #000080; text-decoration-color: #000080\">🐍 Done.</span>                                                                                 <a href=\"file:///content/materials/setup_qiime2\" target=\"_blank\"><span style=\"color: #7f7f7f; text-decoration-color: #7f7f7f\">setup_qiime2</span></a><span style=\"color: #7f7f7f; text-decoration-color: #7f7f7f\">:</span><a href=\"file:///content/materials/setup_qiime2#65\" target=\"_blank\"><span style=\"color: #7f7f7f; text-decoration-color: #7f7f7f\">65</span></a>\n",
              "</pre>\n"
            ]
          },
          "metadata": {}
        },
        {
          "output_type": "display_data",
          "data": {
            "text/plain": [
              "\u001b[2;36m          \u001b[0m\u001b[2;36m \u001b[0m🐍 Installing miniconda\u001b[33m...\u001b[0m                                                               \u001b]8;id=75209;file:///content/materials/setup_qiime2\u001b\\\u001b[2msetup_qiime2\u001b[0m\u001b]8;;\u001b\\\u001b[2m:\u001b[0m\u001b]8;id=270695;file:///content/materials/setup_qiime2#59\u001b\\\u001b[2m59\u001b[0m\u001b]8;;\u001b\\\n"
            ],
            "text/html": [
              "<pre style=\"white-space:pre;overflow-x:auto;line-height:normal;font-family:Menlo,'DejaVu Sans Mono',consolas,'Courier New',monospace\"><span style=\"color: #7fbfbf; text-decoration-color: #7fbfbf\">           </span>🐍 Installing miniconda<span style=\"color: #808000; text-decoration-color: #808000\">...</span>                                                               <a href=\"file:///content/materials/setup_qiime2\" target=\"_blank\"><span style=\"color: #7f7f7f; text-decoration-color: #7f7f7f\">setup_qiime2</span></a><span style=\"color: #7f7f7f; text-decoration-color: #7f7f7f\">:</span><a href=\"file:///content/materials/setup_qiime2#59\" target=\"_blank\"><span style=\"color: #7f7f7f; text-decoration-color: #7f7f7f\">59</span></a>\n",
              "</pre>\n"
            ]
          },
          "metadata": {}
        },
        {
          "output_type": "display_data",
          "data": {
            "text/plain": [
              "\u001b[2;36m[21:52:53]\u001b[0m\u001b[2;36m \u001b[0m\u001b[34m🐍 Installed miniconda to `\u001b[0m\u001b[34m/usr/\u001b[0m\u001b[34mlocal\u001b[0m\u001b[34m`.\u001b[0m                                                  \u001b]8;id=386028;file:///content/materials/setup_qiime2\u001b\\\u001b[2msetup_qiime2\u001b[0m\u001b]8;;\u001b\\\u001b[2m:\u001b[0m\u001b]8;id=103778;file:///content/materials/setup_qiime2#65\u001b\\\u001b[2m65\u001b[0m\u001b]8;;\u001b\\\n"
            ],
            "text/html": [
              "<pre style=\"white-space:pre;overflow-x:auto;line-height:normal;font-family:Menlo,'DejaVu Sans Mono',consolas,'Courier New',monospace\"><span style=\"color: #7fbfbf; text-decoration-color: #7fbfbf\">[21:52:53] </span><span style=\"color: #000080; text-decoration-color: #000080\">🐍 Installed miniconda to `/usr/local`.</span>                                                  <a href=\"file:///content/materials/setup_qiime2\" target=\"_blank\"><span style=\"color: #7f7f7f; text-decoration-color: #7f7f7f\">setup_qiime2</span></a><span style=\"color: #7f7f7f; text-decoration-color: #7f7f7f\">:</span><a href=\"file:///content/materials/setup_qiime2#65\" target=\"_blank\"><span style=\"color: #7f7f7f; text-decoration-color: #7f7f7f\">65</span></a>\n",
              "</pre>\n"
            ]
          },
          "metadata": {}
        },
        {
          "output_type": "display_data",
          "data": {
            "text/plain": [
              "\u001b[2;36m          \u001b[0m\u001b[2;36m \u001b[0m🔍 Downloading Qiime \u001b[1;36m2\u001b[0m package list\u001b[33m...\u001b[0m                                                   \u001b]8;id=395340;file:///content/materials/setup_qiime2\u001b\\\u001b[2msetup_qiime2\u001b[0m\u001b]8;;\u001b\\\u001b[2m:\u001b[0m\u001b]8;id=231060;file:///content/materials/setup_qiime2#59\u001b\\\u001b[2m59\u001b[0m\u001b]8;;\u001b\\\n"
            ],
            "text/html": [
              "<pre style=\"white-space:pre;overflow-x:auto;line-height:normal;font-family:Menlo,'DejaVu Sans Mono',consolas,'Courier New',monospace\"><span style=\"color: #7fbfbf; text-decoration-color: #7fbfbf\">           </span>🔍 Downloading Qiime <span style=\"color: #008080; text-decoration-color: #008080; font-weight: bold\">2</span> package list<span style=\"color: #808000; text-decoration-color: #808000\">...</span>                                                   <a href=\"file:///content/materials/setup_qiime2\" target=\"_blank\"><span style=\"color: #7f7f7f; text-decoration-color: #7f7f7f\">setup_qiime2</span></a><span style=\"color: #7f7f7f; text-decoration-color: #7f7f7f\">:</span><a href=\"file:///content/materials/setup_qiime2#59\" target=\"_blank\"><span style=\"color: #7f7f7f; text-decoration-color: #7f7f7f\">59</span></a>\n",
              "</pre>\n"
            ]
          },
          "metadata": {}
        },
        {
          "output_type": "display_data",
          "data": {
            "text/plain": [
              "\u001b[2;36m[21:52:54]\u001b[0m\u001b[2;36m \u001b[0m\u001b[34m🔍 Done.\u001b[0m                                                                                 \u001b]8;id=497342;file:///content/materials/setup_qiime2\u001b\\\u001b[2msetup_qiime2\u001b[0m\u001b]8;;\u001b\\\u001b[2m:\u001b[0m\u001b]8;id=843081;file:///content/materials/setup_qiime2#65\u001b\\\u001b[2m65\u001b[0m\u001b]8;;\u001b\\\n"
            ],
            "text/html": [
              "<pre style=\"white-space:pre;overflow-x:auto;line-height:normal;font-family:Menlo,'DejaVu Sans Mono',consolas,'Courier New',monospace\"><span style=\"color: #7fbfbf; text-decoration-color: #7fbfbf\">[21:52:54] </span><span style=\"color: #000080; text-decoration-color: #000080\">🔍 Done.</span>                                                                                 <a href=\"file:///content/materials/setup_qiime2\" target=\"_blank\"><span style=\"color: #7f7f7f; text-decoration-color: #7f7f7f\">setup_qiime2</span></a><span style=\"color: #7f7f7f; text-decoration-color: #7f7f7f\">:</span><a href=\"file:///content/materials/setup_qiime2#65\" target=\"_blank\"><span style=\"color: #7f7f7f; text-decoration-color: #7f7f7f\">65</span></a>\n",
              "</pre>\n"
            ]
          },
          "metadata": {}
        },
        {
          "output_type": "display_data",
          "data": {
            "text/plain": [
              "\u001b[2;36m          \u001b[0m\u001b[2;36m \u001b[0m🔍 Installing Qiime \u001b[1;36m2\u001b[0m. This may take a little bit.                                       \u001b]8;id=642241;file:///content/materials/setup_qiime2\u001b\\\u001b[2msetup_qiime2\u001b[0m\u001b]8;;\u001b\\\u001b[2m:\u001b[0m\u001b]8;id=586825;file:///content/materials/setup_qiime2#59\u001b\\\u001b[2m59\u001b[0m\u001b]8;;\u001b\\\n",
              "\u001b[2;36m           \u001b[0m 🕐                                                                                      \u001b[2m               \u001b[0m\n"
            ],
            "text/html": [
              "<pre style=\"white-space:pre;overflow-x:auto;line-height:normal;font-family:Menlo,'DejaVu Sans Mono',consolas,'Courier New',monospace\"><span style=\"color: #7fbfbf; text-decoration-color: #7fbfbf\">           </span>🔍 Installing Qiime <span style=\"color: #008080; text-decoration-color: #008080; font-weight: bold\">2</span>. This may take a little bit.                                       <a href=\"file:///content/materials/setup_qiime2\" target=\"_blank\"><span style=\"color: #7f7f7f; text-decoration-color: #7f7f7f\">setup_qiime2</span></a><span style=\"color: #7f7f7f; text-decoration-color: #7f7f7f\">:</span><a href=\"file:///content/materials/setup_qiime2#59\" target=\"_blank\"><span style=\"color: #7f7f7f; text-decoration-color: #7f7f7f\">59</span></a>\n",
              "<span style=\"color: #7fbfbf; text-decoration-color: #7fbfbf\">           </span> 🕐                                                                                      <span style=\"color: #7f7f7f; text-decoration-color: #7f7f7f\">               </span>\n",
              "</pre>\n"
            ]
          },
          "metadata": {}
        },
        {
          "output_type": "display_data",
          "data": {
            "text/plain": [
              "\u001b[2;36m[22:01:05]\u001b[0m\u001b[2;36m \u001b[0m\u001b[34m🔍 Done.\u001b[0m                                                                                 \u001b]8;id=783787;file:///content/materials/setup_qiime2\u001b\\\u001b[2msetup_qiime2\u001b[0m\u001b]8;;\u001b\\\u001b[2m:\u001b[0m\u001b]8;id=957768;file:///content/materials/setup_qiime2#65\u001b\\\u001b[2m65\u001b[0m\u001b]8;;\u001b\\\n"
            ],
            "text/html": [
              "<pre style=\"white-space:pre;overflow-x:auto;line-height:normal;font-family:Menlo,'DejaVu Sans Mono',consolas,'Courier New',monospace\"><span style=\"color: #7fbfbf; text-decoration-color: #7fbfbf\">[22:01:05] </span><span style=\"color: #000080; text-decoration-color: #000080\">🔍 Done.</span>                                                                                 <a href=\"file:///content/materials/setup_qiime2\" target=\"_blank\"><span style=\"color: #7f7f7f; text-decoration-color: #7f7f7f\">setup_qiime2</span></a><span style=\"color: #7f7f7f; text-decoration-color: #7f7f7f\">:</span><a href=\"file:///content/materials/setup_qiime2#65\" target=\"_blank\"><span style=\"color: #7f7f7f; text-decoration-color: #7f7f7f\">65</span></a>\n",
              "</pre>\n"
            ]
          },
          "metadata": {}
        },
        {
          "output_type": "display_data",
          "data": {
            "text/plain": [
              "\u001b[2;36m          \u001b[0m\u001b[2;36m \u001b[0m🌲 Installing Empress\u001b[33m...\u001b[0m                                                                 \u001b]8;id=186196;file:///content/materials/setup_qiime2\u001b\\\u001b[2msetup_qiime2\u001b[0m\u001b]8;;\u001b\\\u001b[2m:\u001b[0m\u001b]8;id=752880;file:///content/materials/setup_qiime2#59\u001b\\\u001b[2m59\u001b[0m\u001b]8;;\u001b\\\n"
            ],
            "text/html": [
              "<pre style=\"white-space:pre;overflow-x:auto;line-height:normal;font-family:Menlo,'DejaVu Sans Mono',consolas,'Courier New',monospace\"><span style=\"color: #7fbfbf; text-decoration-color: #7fbfbf\">           </span>🌲 Installing Empress<span style=\"color: #808000; text-decoration-color: #808000\">...</span>                                                                 <a href=\"file:///content/materials/setup_qiime2\" target=\"_blank\"><span style=\"color: #7f7f7f; text-decoration-color: #7f7f7f\">setup_qiime2</span></a><span style=\"color: #7f7f7f; text-decoration-color: #7f7f7f\">:</span><a href=\"file:///content/materials/setup_qiime2#59\" target=\"_blank\"><span style=\"color: #7f7f7f; text-decoration-color: #7f7f7f\">59</span></a>\n",
              "</pre>\n"
            ]
          },
          "metadata": {}
        },
        {
          "output_type": "display_data",
          "data": {
            "text/plain": [
              "\u001b[2;36m[22:01:10]\u001b[0m\u001b[2;36m \u001b[0m\u001b[34m🌲 Done.\u001b[0m                                                                                 \u001b]8;id=365676;file:///content/materials/setup_qiime2\u001b\\\u001b[2msetup_qiime2\u001b[0m\u001b]8;;\u001b\\\u001b[2m:\u001b[0m\u001b]8;id=15887;file:///content/materials/setup_qiime2#65\u001b\\\u001b[2m65\u001b[0m\u001b]8;;\u001b\\\n"
            ],
            "text/html": [
              "<pre style=\"white-space:pre;overflow-x:auto;line-height:normal;font-family:Menlo,'DejaVu Sans Mono',consolas,'Courier New',monospace\"><span style=\"color: #7fbfbf; text-decoration-color: #7fbfbf\">[22:01:10] </span><span style=\"color: #000080; text-decoration-color: #000080\">🌲 Done.</span>                                                                                 <a href=\"file:///content/materials/setup_qiime2\" target=\"_blank\"><span style=\"color: #7f7f7f; text-decoration-color: #7f7f7f\">setup_qiime2</span></a><span style=\"color: #7f7f7f; text-decoration-color: #7f7f7f\">:</span><a href=\"file:///content/materials/setup_qiime2#65\" target=\"_blank\"><span style=\"color: #7f7f7f; text-decoration-color: #7f7f7f\">65</span></a>\n",
              "</pre>\n"
            ]
          },
          "metadata": {}
        },
        {
          "output_type": "display_data",
          "data": {
            "text/plain": [
              "\u001b[2;36m          \u001b[0m\u001b[2;36m \u001b[0m📊 Checking that Qiime \u001b[1;36m2\u001b[0m command line works\u001b[33m...\u001b[0m                                           \u001b]8;id=470119;file:///content/materials/setup_qiime2\u001b\\\u001b[2msetup_qiime2\u001b[0m\u001b]8;;\u001b\\\u001b[2m:\u001b[0m\u001b]8;id=810512;file:///content/materials/setup_qiime2#59\u001b\\\u001b[2m59\u001b[0m\u001b]8;;\u001b\\\n"
            ],
            "text/html": [
              "<pre style=\"white-space:pre;overflow-x:auto;line-height:normal;font-family:Menlo,'DejaVu Sans Mono',consolas,'Courier New',monospace\"><span style=\"color: #7fbfbf; text-decoration-color: #7fbfbf\">           </span>📊 Checking that Qiime <span style=\"color: #008080; text-decoration-color: #008080; font-weight: bold\">2</span> command line works<span style=\"color: #808000; text-decoration-color: #808000\">...</span>                                           <a href=\"file:///content/materials/setup_qiime2\" target=\"_blank\"><span style=\"color: #7f7f7f; text-decoration-color: #7f7f7f\">setup_qiime2</span></a><span style=\"color: #7f7f7f; text-decoration-color: #7f7f7f\">:</span><a href=\"file:///content/materials/setup_qiime2#59\" target=\"_blank\"><span style=\"color: #7f7f7f; text-decoration-color: #7f7f7f\">59</span></a>\n",
              "</pre>\n"
            ]
          },
          "metadata": {}
        },
        {
          "output_type": "display_data",
          "data": {
            "text/plain": [
              "\u001b[2;36m[22:01:29]\u001b[0m\u001b[2;36m \u001b[0m\u001b[34m📊 Qiime \u001b[0m\u001b[1;34m2\u001b[0m\u001b[34m command line looks good 🎉\u001b[0m                                                    \u001b]8;id=133129;file:///content/materials/setup_qiime2\u001b\\\u001b[2msetup_qiime2\u001b[0m\u001b]8;;\u001b\\\u001b[2m:\u001b[0m\u001b]8;id=924958;file:///content/materials/setup_qiime2#65\u001b\\\u001b[2m65\u001b[0m\u001b]8;;\u001b\\\n"
            ],
            "text/html": [
              "<pre style=\"white-space:pre;overflow-x:auto;line-height:normal;font-family:Menlo,'DejaVu Sans Mono',consolas,'Courier New',monospace\"><span style=\"color: #7fbfbf; text-decoration-color: #7fbfbf\">[22:01:29] </span><span style=\"color: #000080; text-decoration-color: #000080\">📊 Qiime </span><span style=\"color: #000080; text-decoration-color: #000080; font-weight: bold\">2</span><span style=\"color: #000080; text-decoration-color: #000080\"> command line looks good 🎉</span>                                                    <a href=\"file:///content/materials/setup_qiime2\" target=\"_blank\"><span style=\"color: #7f7f7f; text-decoration-color: #7f7f7f\">setup_qiime2</span></a><span style=\"color: #7f7f7f; text-decoration-color: #7f7f7f\">:</span><a href=\"file:///content/materials/setup_qiime2#65\" target=\"_blank\"><span style=\"color: #7f7f7f; text-decoration-color: #7f7f7f\">65</span></a>\n",
              "</pre>\n"
            ]
          },
          "metadata": {}
        },
        {
          "output_type": "display_data",
          "data": {
            "text/plain": [
              "\u001b[2;36m          \u001b[0m\u001b[2;36m \u001b[0m🧹 Cleaned up unneeded files.                                                            \u001b]8;id=320912;file:///content/materials/setup_qiime2\u001b\\\u001b[2msetup_qiime2\u001b[0m\u001b]8;;\u001b\\\u001b[2m:\u001b[0m\u001b]8;id=830229;file:///content/materials/setup_qiime2#54\u001b\\\u001b[2m54\u001b[0m\u001b]8;;\u001b\\\n"
            ],
            "text/html": [
              "<pre style=\"white-space:pre;overflow-x:auto;line-height:normal;font-family:Menlo,'DejaVu Sans Mono',consolas,'Courier New',monospace\"><span style=\"color: #7fbfbf; text-decoration-color: #7fbfbf\">           </span>🧹 Cleaned up unneeded files.                                                            <a href=\"file:///content/materials/setup_qiime2\" target=\"_blank\"><span style=\"color: #7f7f7f; text-decoration-color: #7f7f7f\">setup_qiime2</span></a><span style=\"color: #7f7f7f; text-decoration-color: #7f7f7f\">:</span><a href=\"file:///content/materials/setup_qiime2#54\" target=\"_blank\"><span style=\"color: #7f7f7f; text-decoration-color: #7f7f7f\">54</span></a>\n",
              "</pre>\n"
            ]
          },
          "metadata": {}
        },
        {
          "output_type": "display_data",
          "data": {
            "text/plain": [
              "\u001b[2;36m          \u001b[0m\u001b[2;36m \u001b[0m\u001b[32mEverything is A-OK. You can start using Qiime \u001b[0m\u001b[1;32m2\u001b[0m\u001b[32m now 👍\u001b[0m                                  \u001b]8;id=279870;file:///content/materials/setup_qiime2\u001b\\\u001b[2msetup_qiime2\u001b[0m\u001b]8;;\u001b\\\u001b[2m:\u001b[0m\u001b]8;id=124965;file:///content/materials/setup_qiime2#141\u001b\\\u001b[2m141\u001b[0m\u001b]8;;\u001b\\\n"
            ],
            "text/html": [
              "<pre style=\"white-space:pre;overflow-x:auto;line-height:normal;font-family:Menlo,'DejaVu Sans Mono',consolas,'Courier New',monospace\"><span style=\"color: #7fbfbf; text-decoration-color: #7fbfbf\">           </span><span style=\"color: #008000; text-decoration-color: #008000\">Everything is A-OK. You can start using Qiime </span><span style=\"color: #008000; text-decoration-color: #008000; font-weight: bold\">2</span><span style=\"color: #008000; text-decoration-color: #008000\"> now 👍</span>                                  <a href=\"file:///content/materials/setup_qiime2\" target=\"_blank\"><span style=\"color: #7f7f7f; text-decoration-color: #7f7f7f\">setup_qiime2</span></a><span style=\"color: #7f7f7f; text-decoration-color: #7f7f7f\">:</span><a href=\"file:///content/materials/setup_qiime2#141\" target=\"_blank\"><span style=\"color: #7f7f7f; text-decoration-color: #7f7f7f\">141</span></a>\n",
              "</pre>\n"
            ]
          },
          "metadata": {}
        }
      ],
      "source": [
        "%run setup_qiime2"
      ]
    },
    {
      "cell_type": "markdown",
      "metadata": {
        "id": "BGWsqUfq5oSi"
      },
      "source": [
        "---\n",
        "\n",
        "While this is running let's get back to the presentation. 📚\n",
        "\n",
        "---\n",
        "\n",
        "<br>\n",
        "\n",
        "## Our first QIIME 2 command\n",
        "\n",
        "Let's remember our workflow for today.\n",
        "\n",
        "![our workflow](https://github.com/Gibbons-Lab/isb_course_2023/raw/main/docs/16S/assets/steps.png)\n",
        "\n",
        "The first thing we have to do is to get the data into an 'artifact'.\n",
        "We can import the data with the `import` action from the tools. For that we have to give\n",
        "QIIME 2 a *manifest* (list of raw files) and tell it what *type of data* we\n",
        "are importing and what *type of artifact* we want.\n",
        "\n",
        "**QoL Tip:** QIIME 2 commands can get very long. To split them up over several lines we can use `\\` which means \"continue on the next line\"."
      ]
    },
    {
      "cell_type": "code",
      "execution_count": 7,
      "metadata": {
        "id": "6mGgUrRf5pyb",
        "outputId": "7fe501bf-58a8-40fa-d297-9958f080b741",
        "colab": {
          "base_uri": "https://localhost:8080/"
        }
      },
      "outputs": [
        {
          "output_type": "stream",
          "name": "stdout",
          "text": [
            "\u001b[32mImported data/manifest.tsv as SingleEndFastqManifestPhred33V2 to sequences.qza\u001b[0m\n",
            "\u001b[0m"
          ]
        }
      ],
      "source": [
        "!qiime tools import \\\n",
        "  --type 'SampleData[SequencesWithQuality]' \\\n",
        "  --input-path data/manifest.tsv \\\n",
        "  --output-path sequences.qza \\\n",
        "  --input-format SingleEndFastqManifestPhred33V2"
      ]
    },
    {
      "cell_type": "markdown",
      "metadata": {
        "id": "lw7TmzbiAoLj"
      },
      "source": [
        "Since we have quality information for the sequencing reads, let's also generate\n",
        "our first visualization to inspect sequence quality.\n",
        "\n",
        "---\n",
        "\n",
        "Qiime 2 commands can become pretty long. Here are some pointers to remember the\n",
        "structure of a command:\n",
        "\n",
        "```\n",
        "qiime plugin action --i-argument1 ... --o-argument2 ...\n",
        "```\n",
        "\n",
        "Argument types usually begin with a letter denoting their meaning:\n",
        "\n",
        "- `--i-...` = input files\n",
        "- `--o-...` = output files\n",
        "- `--p-...` = parameters\n",
        "- `--m-...` = metadata\n",
        "\n",
        "---\n",
        "\n",
        "In this case we will use the `summarize` action from the `demux` plugin with the previously generated artifact as input and output the resulting visualization to the `qualities.qzv` file."
      ]
    },
    {
      "cell_type": "code",
      "execution_count": 8,
      "metadata": {
        "id": "feGa41cEApGs",
        "outputId": "f1c7a3bd-702a-4dea-af71-ad8601612c41",
        "colab": {
          "base_uri": "https://localhost:8080/"
        }
      },
      "outputs": [
        {
          "output_type": "stream",
          "name": "stdout",
          "text": [
            "\u001b[32mSaved Visualization to: qualities.qzv\u001b[0m\n",
            "\u001b[0m"
          ]
        }
      ],
      "source": [
        "!qiime demux summarize --i-data sequences.qza --o-visualization qualities.qzv"
      ]
    },
    {
      "cell_type": "markdown",
      "metadata": {
        "id": "O2GenFy3C8gu"
      },
      "source": [
        "You can view the plot by downloading the .qzv file and opening it using http://view.qiime2.org. To download the file click on the folder symbol to the left, open the `materials` folder, and choose download from the dot menu next to the `qualities.qzv` file.\n",
        "\n",
        "🤔 What do you observe across the read? Where would you truncate the reads?"
      ]
    },
    {
      "cell_type": "markdown",
      "metadata": {
        "id": "os5MeRvLIq0v"
      },
      "source": [
        "# Denoising amplicon sequence variants\n",
        "\n",
        "We will now run the DADA2 plugin which will do 3 things:\n",
        "\n",
        "1. filter and trim the reads\n",
        "2. find the most likely set of unique sequences in the sample (ASVs)\n",
        "3. remove chimeras\n",
        "4. count the abundances of each ASV\n",
        "\n",
        "\n",
        "Since this step takes a bit, let's start the process and use the time to\n",
        "understand what is happening:"
      ]
    },
    {
      "cell_type": "code",
      "execution_count": 6,
      "metadata": {
        "id": "RdLSMp9-Dl-d",
        "outputId": "a0b32ff7-bc9a-4abc-b8fb-d8c81fee85a9",
        "colab": {
          "base_uri": "https://localhost:8080/"
        }
      },
      "outputs": [
        {
          "output_type": "stream",
          "name": "stdout",
          "text": [
            "Usage: \u001b[94mqiime dada2 denoise-paired\u001b[0m \n",
            "           [OPTIONS]\n",
            "\n",
            "  This method denoises paired-end sequences,\n",
            "  dereplicates them, and filters chimeras.\n",
            "\n",
            "\u001b[1mInputs\u001b[0m:\n",
            "  \u001b[94m\u001b[4m--i-demultiplexed-seqs\u001b[0m ARTIFACT \u001b[32m\u001b[0m\n",
            "    \u001b[32mSampleData[PairedEndSequencesWithQuality]\u001b[0m\n",
            "                         The paired-end\n",
            "                         demultiplexed sequences\n",
            "                         to be denoised.\n",
            "                                        \u001b[35m[required]\u001b[0m\n",
            "\u001b[1mParameters\u001b[0m:\n",
            "  \u001b[94m\u001b[4m--p-trunc-len-f\u001b[0m INTEGER\n",
            "                         Position at which\n",
            "                         forward read sequences\n",
            "                         should be truncated due\n",
            "                         to decrease in quality.\n",
            "                         This truncates the 3' end\n",
            "                         of the of the input\n",
            "                         sequences, which will be\n",
            "                         the bases that were\n",
            "                         sequenced in the last\n",
            "                         cycles. Reads that are\n",
            "                         shorter than this value\n",
            "                         will be discarded. After\n",
            "                         this parameter is applied\n",
            "                         there must still be at\n",
            "                         least a 12 nucleotide\n",
            "                         overlap between the\n",
            "                         forward and reverse\n",
            "                         reads. If 0 is provided,\n",
            "                         no truncation or length\n",
            "                         filtering will be\n",
            "                         performed      \u001b[35m[required]\u001b[0m\n",
            "  \u001b[94m\u001b[4m--p-trunc-len-r\u001b[0m INTEGER\n",
            "                         Position at which\n",
            "                         reverse read sequences\n",
            "                         should be truncated due\n",
            "                         to decrease in quality.\n",
            "                         This truncates the 3' end\n",
            "                         of the of the input\n",
            "                         sequences, which will be\n",
            "                         the bases that were\n",
            "                         sequenced in the last\n",
            "                         cycles. Reads that are\n",
            "                         shorter than this value\n",
            "                         will be discarded. After\n",
            "                         this parameter is applied\n",
            "                         there must still be at\n",
            "                         least a 12 nucleotide\n",
            "                         overlap between the\n",
            "                         forward and reverse\n",
            "                         reads. If 0 is provided,\n",
            "                         no truncation or length\n",
            "                         filtering will be\n",
            "                         performed      \u001b[35m[required]\u001b[0m\n",
            "  \u001b[94m--p-trim-left-f\u001b[0m INTEGER\n",
            "                         Position at which\n",
            "                         forward read sequences\n",
            "                         should be trimmed due to\n",
            "                         low quality. This trims\n",
            "                         the 5' end of the input\n",
            "                         sequences, which will be\n",
            "                         the bases that were\n",
            "                         sequenced in the first\n",
            "                         cycles.      \u001b[35m[default: 0]\u001b[0m\n",
            "  \u001b[94m--p-trim-left-r\u001b[0m INTEGER\n",
            "                         Position at which\n",
            "                         reverse read sequences\n",
            "                         should be trimmed due to\n",
            "                         low quality. This trims\n",
            "                         the 5' end of the input\n",
            "                         sequences, which will be\n",
            "                         the bases that were\n",
            "                         sequenced in the first\n",
            "                         cycles.      \u001b[35m[default: 0]\u001b[0m\n",
            "  \u001b[94m--p-max-ee-f\u001b[0m NUMBER    Forward reads with\n",
            "                         number of expected errors\n",
            "                         higher than this value\n",
            "                         will be discarded.\n",
            "                                    \u001b[35m[default: 2.0]\u001b[0m\n",
            "  \u001b[94m--p-max-ee-r\u001b[0m NUMBER    Reverse reads with\n",
            "                         number of expected errors\n",
            "                         higher than this value\n",
            "                         will be discarded.\n",
            "                                    \u001b[35m[default: 2.0]\u001b[0m\n",
            "  \u001b[94m--p-trunc-q\u001b[0m INTEGER    Reads are truncated at\n",
            "                         the first instance of a\n",
            "                         quality score less than\n",
            "                         or equal to this value.\n",
            "                         If the resulting read is\n",
            "                         then shorter than\n",
            "                         `\u001b[4mtrunc-len-f\u001b[0m` or\n",
            "                         `\u001b[4mtrunc-len-r\u001b[0m` (depending\n",
            "                         on the direction of the\n",
            "                         read) it is discarded.\n",
            "                                      \u001b[35m[default: 2]\u001b[0m\n",
            "  \u001b[94m--p-min-overlap\u001b[0m INTEGER\n",
            "    \u001b[32mRange(4, None)\u001b[0m       The minimum length of\n",
            "                         the overlap required for\n",
            "                         merging the forward and\n",
            "                         reverse reads.\n",
            "                                     \u001b[35m[default: 12]\u001b[0m\n",
            "  \u001b[94m--p-pooling-method\u001b[0m TEXT \u001b[32m\u001b[0m\n",
            "    \u001b[32mChoices('independent', 'pseudo')\u001b[0m\n",
            "                         The method used to pool\n",
            "                         samples for denoising.\n",
            "                         \"independent\": Samples\n",
            "                         are denoised\n",
            "                         indpendently. \"pseudo\":\n",
            "                         The pseudo-pooling method\n",
            "                         is used to approximate\n",
            "                         pooling of samples. In\n",
            "                         short, samples are\n",
            "                         denoised independently\n",
            "                         once, ASVs detected in at\n",
            "                         least 2 samples are\n",
            "                         recorded, and samples are\n",
            "                         denoised independently a\n",
            "                         second time, but this\n",
            "                         time with prior knowledge\n",
            "                         of the recorded ASVs and\n",
            "                         thus higher sensitivity\n",
            "                         to those ASVs.\n",
            "                          \u001b[35m[default: 'independent']\u001b[0m\n",
            "  \u001b[94m--p-chimera-method\u001b[0m TEXT \u001b[32mChoices('consensus',\u001b[0m\n",
            "    \u001b[32m'none', 'pooled')\u001b[0m    The method used to\n",
            "                         remove chimeras. \"none\":\n",
            "                         No chimera removal is\n",
            "                         performed. \"pooled\": All\n",
            "                         reads are pooled prior to\n",
            "                         chimera detection.\n",
            "                         \"consensus\": Chimeras are\n",
            "                         detected in samples\n",
            "                         individually, and\n",
            "                         sequences found chimeric\n",
            "                         in a sufficient fraction\n",
            "                         of samples are removed.\n",
            "                            \u001b[35m[default: 'consensus']\u001b[0m\n",
            "  \u001b[94m--p-min-fold-parent-over-abundance\u001b[0m NUMBER\n",
            "                         The minimum abundance of\n",
            "                         potential parents of a\n",
            "                         sequence being tested as\n",
            "                         chimeric, expressed as a\n",
            "                         fold-change versus the\n",
            "                         abundance of the sequence\n",
            "                         being tested. Values\n",
            "                         should be greater than or\n",
            "                         equal to 1 (i.e. parents\n",
            "                         should be more abundant\n",
            "                         than the sequence being\n",
            "                         tested). This parameter\n",
            "                         has no effect if\n",
            "                         \u001b[4mchimera-method\u001b[0m is \"none\".\n",
            "                                    \u001b[35m[default: 1.0]\u001b[0m\n",
            "  \u001b[94m--p-allow-one-off\u001b[0m / \u001b[94m--p-no-allow-one-off\u001b[0m\n",
            "                         Bimeras that are one-off\n",
            "                         from exact are also\n",
            "                         identified if the\n",
            "                         `\u001b[4mallow-one-off\u001b[0m` argument\n",
            "                         is TrueIf True, a\n",
            "                         sequence will be\n",
            "                         identified as bimera if\n",
            "                         it is one mismatch or\n",
            "                         indel away from an exact\n",
            "                         bimera.  \u001b[35m[default: False]\u001b[0m\n",
            "  \u001b[94m--p-n-threads\u001b[0m INTEGER  The number of threads to\n",
            "                         use for multithreaded\n",
            "                         processing. If 0 is\n",
            "                         provided, all available\n",
            "                         cores will be used.\n",
            "                                      \u001b[35m[default: 1]\u001b[0m\n",
            "  \u001b[94m--p-n-reads-learn\u001b[0m INTEGER\n",
            "                         The number of reads to\n",
            "                         use when training the\n",
            "                         error model. Smaller\n",
            "                         numbers will result in a\n",
            "                         shorter run time but a\n",
            "                         less reliable error\n",
            "                         model. \u001b[35m[default: 1000000]\u001b[0m\n",
            "  \u001b[94m--p-hashed-feature-ids\u001b[0m /\n",
            "  \u001b[94m--p-no-hashed-feature-ids\u001b[0m\n",
            "                         If true, the feature ids\n",
            "                         in the resulting table\n",
            "                         will be presented as\n",
            "                         hashes of the sequences\n",
            "                         defining each feature.\n",
            "                         The hash will always be\n",
            "                         the same for the same\n",
            "                         sequence so this allows\n",
            "                         feature tables to be\n",
            "                         merged across runs of\n",
            "                         this method. You should\n",
            "                         only merge tables if the\n",
            "                         exact same parameters are\n",
            "                         used for each run.\n",
            "                                   \u001b[35m[default: True]\u001b[0m\n",
            "\u001b[1mOutputs\u001b[0m:\n",
            "  \u001b[94m\u001b[4m--o-table\u001b[0m ARTIFACT \u001b[32mFeatureTable[Frequency]\u001b[0m\n",
            "                         The resulting feature\n",
            "                         table.         \u001b[35m[required]\u001b[0m\n",
            "  \u001b[94m\u001b[4m--o-representative-sequences\u001b[0m ARTIFACT \u001b[32m\u001b[0m\n",
            "    \u001b[32mFeatureData[Sequence]\u001b[0m\n",
            "                         The resulting feature\n",
            "                         sequences. Each feature\n",
            "                         in the feature table will\n",
            "                         be represented by exactly\n",
            "                         one sequence, and these\n",
            "                         sequences will be the\n",
            "                         joined paired-end\n",
            "                         sequences.     \u001b[35m[required]\u001b[0m\n",
            "  \u001b[94m\u001b[4m--o-denoising-stats\u001b[0m ARTIFACT \u001b[32m\u001b[0m\n",
            "    \u001b[32mSampleData[DADA2Stats]\u001b[0m\n",
            "                                        \u001b[35m[required]\u001b[0m\n",
            "\u001b[1mMiscellaneous\u001b[0m:\n",
            "  \u001b[94m--output-dir\u001b[0m PATH      Output unspecified\n",
            "                         results to a directory\n",
            "  \u001b[94m--verbose\u001b[0m / \u001b[94m--quiet\u001b[0m    Display verbose output\n",
            "                         to stdout and/or stderr\n",
            "                         during execution of this\n",
            "                         action. Or silence output\n",
            "                         if execution is\n",
            "                         successful (silence is\n",
            "                         golden).\n",
            "  \u001b[94m--example-data\u001b[0m PATH    Write example data and\n",
            "                         exit.\n",
            "  \u001b[94m--citations\u001b[0m            Show citations and exit.\n",
            "  \u001b[94m--help\u001b[0m                 Show this message and\n",
            "                         exit.\n",
            "\n",
            "\u001b[1mExamples\u001b[0m:\n",
            "  # ### example: denoise paired\n",
            "  qiime dada2 denoise-paired \\\n",
            "    --i-demultiplexed-seqs demux-paired.qza \\\n",
            "    --p-trunc-len-f 150 \\\n",
            "    --p-trunc-len-r 140 \\\n",
            "    --o-representative-sequences representative-sequences.qza \\\n",
            "    --o-table table.qza \\\n",
            "    --o-denoising-stats denoising-stats.qza\n",
            "  \n",
            "\n",
            "\u001b[33m                    There was a problem with the command:                     \u001b[0m\n",
            "\u001b[31m\u001b[1m (1/1) Invalid value for '--i-demultiplexed-seqs': sequences.qza does not\n",
            "  exist.\u001b[0m\n",
            "\u001b[0m"
          ]
        }
      ],
      "source": [
        "!qiime dada2 denoise-paired \\\n",
        "    --i-demultiplexed-seqs sequences.qza \\\n",
        "    --p-trunc-len-f 150 \\\n",
        "    --p-n-threads 2 \\\n",
        "    --output-dir dada2 --verbose"
      ]
    },
    {
      "cell_type": "markdown",
      "metadata": {
        "id": "aFpQQ5GHdbzX"
      },
      "source": [
        "---\n",
        "\n",
        "While this is running let's get back to the presentation. 📚\n",
        "\n",
        "---\n",
        "\n",
        "<br>\n",
        "\n",
        "\n",
        "If this step takes too long or fails, you can also copy the results from the treasure chest with the following command."
      ]
    },
    {
      "cell_type": "code",
      "execution_count": 7,
      "metadata": {
        "id": "PFrfo-uCdoRz",
        "outputId": "fe081ed6-6dcf-4264-ac74-c7c02297bd76",
        "colab": {
          "base_uri": "https://localhost:8080/"
        }
      },
      "outputs": [
        {
          "output_type": "stream",
          "name": "stdout",
          "text": [
            "cp: cannot stat 'treasure_chest/dada2': No such file or directory\n"
          ]
        }
      ],
      "source": [
        "# obscure magic that will only copy if the previous command failed\n",
        "![ -d dada2 ] || cp -r treasure_chest/dada2 ."
      ]
    },
    {
      "cell_type": "markdown",
      "metadata": {
        "id": "4YzrovxVj7U_"
      },
      "source": [
        "Ok, this step ran, but we should also make sure it kind of worked. One good way to tell if the identified ASVs are representative of the sample is to see how many reads were maintained throughout the pipeline. Here, the most common issues and solutions are:\n",
        "\n",
        "**Large fraction of reads is lost during merging (only paired-end)**\n",
        "\n",
        "![read overlap](https://gibbons-lab.github.io/isb_course_2023/16S/assets/read_overlap.png)\n",
        "\n",
        "In order to merge ASVs DADA2 uses an overlap of 12 bases between forward and reverse reads by default. Thus, your reads must allow for sufficient overlap *after* trimming. So if your amplified region is 450bp long and you have 2x250bp reads and you trim the last 30 bases of each read, truncating the length to 220bp, the total length of covered sequence is 2x220 = 440 which is shorter than 450bp so there will be no overlap. To solve this issue trim less of the reads or adjust the `--p-min-overlap` parameters to something lower (but not too low).\n",
        "\n",
        "<br>\n",
        "\n",
        "**Most of the reads are lost as chimeric**\n",
        "\n",
        "![read overlap](https://gibbons-lab.github.io/isb_course_2023/16S/assets/chimera.png)\n",
        "\n",
        "This is usually an experimental issue as chimeras are introduced during amplification. If you can adjust your PCR, try to run fewer cycles. Chimeras can also be introduced by incorrect merging. If your minimum overlap is too small ASVs may be merged randomly. Possible fixes are to increase the `--p-min-overlap` parameter or run the analysis on the forward reads only (in our empirical observations, chimeras are more likely to be introduced in the joined reads). *However, losing between 5-25% of your reads to chimeras is normal and does not require any adjustments.*\n",
        "\n",
        "Our denoising stats are contained in an artifact. To convert it to a visualization we can use `qiime metadata tabulate`."
      ]
    },
    {
      "cell_type": "code",
      "execution_count": 8,
      "metadata": {
        "id": "n_Tr3Ujcj61w",
        "outputId": "3fff41f3-1586-44e1-f246-406b4febe6f9",
        "colab": {
          "base_uri": "https://localhost:8080/"
        }
      },
      "outputs": [
        {
          "output_type": "stream",
          "name": "stdout",
          "text": [
            "\u001b[31m\u001b[1mThere was an issue with loading the file dada2/denoising_stats.qza as metadata:\n",
            "\n",
            "  Metadata file path doesn't exist, or the path points to something other than a file. Please check that the path exists, has read permissions, and points to a regular file (not a directory): dada2/denoising_stats.qza\n",
            "\n",
            "  There may be more errors present in the metadata file. To get a full report, sample/feature metadata files can be validated with Keemei: https://keemei.qiime2.org\n",
            "\n",
            "  Find details on QIIME 2 metadata requirements here: https://docs.qiime2.org/2023.7/tutorials/metadata/\u001b[0m\n",
            "\n",
            "\u001b[0m"
          ]
        }
      ],
      "source": [
        "!qiime metadata tabulate \\\n",
        "    --m-input-file dada2/denoising_stats.qza \\\n",
        "    --o-visualization dada2/denoising-stats.qzv"
      ]
    },
    {
      "cell_type": "markdown",
      "metadata": {
        "id": "o75g7DSO2tu5"
      },
      "source": [
        "What proprotion of reads was retained throughout the entire pipeline? Look at the final number of used reads (non-chimeric). What do you observe when comparing those values between samples and how might that affect diversity metrics?"
      ]
    },
    {
      "cell_type": "markdown",
      "metadata": {
        "id": "c0ZV3_sGQ20u"
      },
      "source": [
        "# Phylogeny and ecological diversity metrics"
      ]
    },
    {
      "cell_type": "markdown",
      "metadata": {
        "id": "aEit8p7V9Ht9"
      },
      "source": [
        "## Building a tree\n",
        "\n",
        "We can build a phylogenetic tree for our sequences using the following command:"
      ]
    },
    {
      "cell_type": "code",
      "execution_count": 9,
      "metadata": {
        "id": "2PVNlD0g9MsX",
        "outputId": "b00414e7-8a46-4876-8fb8-f594f461c0cd",
        "colab": {
          "base_uri": "https://localhost:8080/"
        }
      },
      "outputs": [
        {
          "output_type": "stream",
          "name": "stdout",
          "text": [
            "Usage: \u001b[94mqiime phylogeny align-to-tree-mafft-fasttree\u001b[0m \n",
            "           [OPTIONS]\n",
            "\n",
            "  This pipeline will start by creating a sequence\n",
            "  alignment using MAFFT, after which any alignment\n",
            "  columns that are phylogenetically uninformative\n",
            "  or ambiguously aligned will be removed (masked).\n",
            "  The resulting masked alignment will be used to\n",
            "  infer a phylogenetic tree and then subsequently\n",
            "  rooted at its midpoint. Output files from each\n",
            "  step of the pipeline will be saved. This\n",
            "  includes both the unmasked and masked MAFFT\n",
            "  alignment from q2-alignment methods, and both\n",
            "  the rooted and unrooted phylogenies from\n",
            "  q2-phylogeny methods.\n",
            "\n",
            "\u001b[1mInputs\u001b[0m:\n",
            "  \u001b[94m\u001b[4m--i-sequences\u001b[0m ARTIFACT \u001b[32mFeatureData[Sequence]\u001b[0m\n",
            "                          The sequences to be\n",
            "                          used for creating a\n",
            "                          fasttree based rooted\n",
            "                          phylogenetic tree.\n",
            "                                        \u001b[35m[required]\u001b[0m\n",
            "\u001b[1mParameters\u001b[0m:\n",
            "  \u001b[94m--p-n-threads\u001b[0m VALUE \u001b[32mInt % Range(1, None) |\u001b[0m\n",
            "    \u001b[32mStr % Choices('auto')\u001b[0m The number of threads.\n",
            "                          (Use `auto` to\n",
            "                          automatically use all\n",
            "                          available cores) This\n",
            "                          value is used when\n",
            "                          aligning the sequences\n",
            "                          and creating the tree\n",
            "                          with fasttree.\n",
            "                                      \u001b[35m[default: 1]\u001b[0m\n",
            "  \u001b[94m--p-mask-max-gap-frequency\u001b[0m PROPORTION \u001b[32m\u001b[0m\n",
            "    \u001b[32mRange(0, 1, inclusive_end=True)\u001b[0m\n",
            "                          The maximum relative\n",
            "                          frequency of gap\n",
            "                          characters in a column\n",
            "                          for the column to be\n",
            "                          retained. This relative\n",
            "                          frequency must be a\n",
            "                          number between 0.0 and\n",
            "                          1.0 (inclusive), where\n",
            "                          0.0 retains only those\n",
            "                          columns without gap\n",
            "                          characters, and 1.0\n",
            "                          retains all columns \n",
            "                          regardless of gap\n",
            "                          character frequency.\n",
            "                          This value is used when\n",
            "                          masking the aligned\n",
            "                          sequences.\n",
            "                                    \u001b[35m[default: 1.0]\u001b[0m\n",
            "  \u001b[94m--p-mask-min-conservation\u001b[0m PROPORTION \u001b[32mRange(0,\u001b[0m\n",
            "    \u001b[32m1, inclusive_end=True)\u001b[0m\n",
            "                          The minimum relative\n",
            "                          frequency of at least\n",
            "                          one non-gap character in\n",
            "                          a column for that column\n",
            "                          to be retained. This\n",
            "                          relative frequency must\n",
            "                          be a number between 0.0\n",
            "                          and 1.0 (inclusive). For\n",
            "                          example, if a value of \n",
            "                          0.4 is provided, a\n",
            "                          column will only be\n",
            "                          retained  if it contains\n",
            "                          at least one character\n",
            "                          that is present in at\n",
            "                          least 40% of the\n",
            "                          sequences. This value is\n",
            "                          used when masking the\n",
            "                          aligned sequences.\n",
            "                                    \u001b[35m[default: 0.4]\u001b[0m\n",
            "  \u001b[94m--p-parttree\u001b[0m / \u001b[94m--p-no-parttree\u001b[0m\n",
            "                          This flag is required\n",
            "                          if the number of\n",
            "                          sequences being aligned\n",
            "                          are larger than 1000000.\n",
            "                          Disabled by default.\n",
            "                                  \u001b[35m[default: False]\u001b[0m\n",
            "\u001b[1mOutputs\u001b[0m:\n",
            "  \u001b[94m\u001b[4m--o-alignment\u001b[0m ARTIFACT \u001b[32m\u001b[0m\n",
            "    \u001b[32mFeatureData[AlignedSequence]\u001b[0m\n",
            "                          The aligned sequences.\n",
            "                                        \u001b[35m[required]\u001b[0m\n",
            "  \u001b[94m\u001b[4m--o-masked-alignment\u001b[0m ARTIFACT \u001b[32m\u001b[0m\n",
            "    \u001b[32mFeatureData[AlignedSequence]\u001b[0m\n",
            "                          The masked alignment.\n",
            "                                        \u001b[35m[required]\u001b[0m\n",
            "  \u001b[94m\u001b[4m--o-tree\u001b[0m ARTIFACT       The unrooted\n",
            "    \u001b[32mPhylogeny[Unrooted]\u001b[0m   phylogenetic tree.\n",
            "                                        \u001b[35m[required]\u001b[0m\n",
            "  \u001b[94m\u001b[4m--o-rooted-tree\u001b[0m ARTIFACT\n",
            "    \u001b[32mPhylogeny[Rooted]\u001b[0m     The rooted phylogenetic\n",
            "                          tree.         \u001b[35m[required]\u001b[0m\n",
            "\u001b[1mMiscellaneous\u001b[0m:\n",
            "  \u001b[94m--output-dir\u001b[0m PATH       Output unspecified\n",
            "                          results to a directory\n",
            "  \u001b[94m--verbose\u001b[0m / \u001b[94m--quiet\u001b[0m     Display verbose output\n",
            "                          to stdout and/or stderr\n",
            "                          during execution of this\n",
            "                          action. Or silence\n",
            "                          output if execution is\n",
            "                          successful (silence is\n",
            "                          golden).\n",
            "  \u001b[94m--recycle-pool\u001b[0m TEXT     Use a cache pool for\n",
            "                          pipeline resumption.\n",
            "                          QIIME 2 will cache your\n",
            "                          results in this pool for\n",
            "                          reuse by future\n",
            "                          invocations. These pool\n",
            "                          are retained until\n",
            "                          deleted by the user. If\n",
            "                          not provided, QIIME 2\n",
            "                          will create a pool which\n",
            "                          is automatically reused\n",
            "                          by invocations of the\n",
            "                          same action and removed\n",
            "                          if the action is\n",
            "                          successful. Note: these\n",
            "                          pools are local to the\n",
            "                          cache you are using.\n",
            "  \u001b[94m--no-recycle\u001b[0m            Do not recycle results\n",
            "                          from a previous failed\n",
            "                          pipeline run or save the\n",
            "                          results from this run\n",
            "                          for future recycling.\n",
            "  \u001b[94m--parallel\u001b[0m              Execute your action in\n",
            "                          parallel. This flag will\n",
            "                          use your default\n",
            "                          parallel config.\n",
            "  \u001b[94m--parallel-config\u001b[0m FILE  Execute your action in\n",
            "                          parallel using a config\n",
            "                          at the indicated path.\n",
            "  \u001b[94m--use-cache\u001b[0m DIRECTORY   Specify the cache to be\n",
            "                          used for the\n",
            "                          intermediate work of\n",
            "                          this pipeline. If not\n",
            "                          provided, the default\n",
            "                          cache under\n",
            "                          $TMP/qiime2/<uname> will\n",
            "                          be used. IMPORTANT FOR\n",
            "                          HPC USERS: If you are on\n",
            "                          an HPC system and are\n",
            "                          using parallel execution\n",
            "                          it is important to set\n",
            "                          this to a location that\n",
            "                          is globally accessible\n",
            "                          to all nodes in the\n",
            "                          cluster.\n",
            "  \u001b[94m--example-data\u001b[0m PATH     Write example data and\n",
            "                          exit.\n",
            "  \u001b[94m--citations\u001b[0m             Show citations and\n",
            "                          exit.\n",
            "  \u001b[94m--help\u001b[0m                  Show this message and\n",
            "                          exit.\n",
            "\n",
            "\u001b[1mExamples\u001b[0m:\n",
            "  # ### example: align to tree mafft fasttree\n",
            "  qiime phylogeny align-to-tree-mafft-fasttree \\\n",
            "    --i-sequences rep-seqs.qza \\\n",
            "    --o-alignment aligned-rep-seqs.qza \\\n",
            "    --o-masked-alignment masked-aligned-rep-seqs.qza \\\n",
            "    --o-tree unrooted-tree.qza \\\n",
            "    --o-rooted-tree rooted-tree.qza\n",
            "  \n",
            "\n",
            "\u001b[33m                    There was a problem with the command:                     \u001b[0m\n",
            "\u001b[31m\u001b[1m (1/1) Invalid value for '--i-sequences': dada2/representative_sequences.qza\n",
            "  does not exist.\u001b[0m\n",
            "\u001b[0m"
          ]
        }
      ],
      "source": [
        "!qiime phylogeny align-to-tree-mafft-fasttree \\\n",
        "    --i-sequences dada2/representative_sequences.qza \\\n",
        "    --output-dir tree"
      ]
    },
    {
      "cell_type": "markdown",
      "metadata": {
        "id": "4lB8NI0IiJgk"
      },
      "source": [
        "We can create a visualization for the tree using the [empress](https://github.com/biocore/empress) Qiime 2 plugin."
      ]
    },
    {
      "cell_type": "code",
      "execution_count": 10,
      "metadata": {
        "id": "cSS_y3Kligrc",
        "outputId": "ae669a52-d483-44e3-bf80-c582ba6ab88c",
        "colab": {
          "base_uri": "https://localhost:8080/"
        }
      },
      "outputs": [
        {
          "output_type": "stream",
          "name": "stdout",
          "text": [
            "Usage: \u001b[94mqiime empress tree-plot\u001b[0m \n",
            "           [OPTIONS]\n",
            "\n",
            "  Generates an interactive phylogenetic tree\n",
            "  visualization supporting interaction with\n",
            "  feature metadata.\n",
            "\n",
            "\u001b[1mInputs\u001b[0m:\n",
            "  \u001b[94m\u001b[4m--i-tree\u001b[0m ARTIFACT    The phylogenetic tree to\n",
            "    \u001b[32mPhylogeny[Rooted]\u001b[0m  visualize.       \u001b[35m[required]\u001b[0m\n",
            "\u001b[1mParameters\u001b[0m:\n",
            "  \u001b[94m--m-feature-metadata-file\u001b[0m METADATA...\n",
            "    (multiple          Feature metadata. Can be\n",
            "     arguments will    used to color nodes (tips\n",
            "     be merged)        and/or internal nodes) in\n",
            "                       the tree, and to display\n",
            "                       tip-level barplots.\n",
            "                       Features described in the\n",
            "                       metadata that are not\n",
            "                       present in the tree will be\n",
            "                       automatically filtered out\n",
            "                       of the visualization.\n",
            "                                        \u001b[35m[optional]\u001b[0m\n",
            "  \u001b[94m--p-shear-to-feature-metadata\u001b[0m /\n",
            "  \u001b[94m--p-no-shear-to-feature-metadata\u001b[0m\n",
            "                       Determines whether or not\n",
            "                       to shear the tree to only\n",
            "                       the tips that are present\n",
            "                       as features in the feature\n",
            "                       metadata. Internal nodes\n",
            "                       present in the feature\n",
            "                       metadata are ignored during\n",
            "                       shearing, and can\n",
            "                       potentially be filtered out\n",
            "                       if none of their child tips\n",
            "                       are present in the feature\n",
            "                       metadata. By default, does\n",
            "                       not shear the tree.\n",
            "                                  \u001b[35m[default: False]\u001b[0m\n",
            "\u001b[1mOutputs\u001b[0m:\n",
            "  \u001b[94m\u001b[4m--o-visualization\u001b[0m VISUALIZATION\n",
            "                                        \u001b[35m[required]\u001b[0m\n",
            "\u001b[1mMiscellaneous\u001b[0m:\n",
            "  \u001b[94m--output-dir\u001b[0m PATH    Output unspecified results\n",
            "                       to a directory\n",
            "  \u001b[94m--verbose\u001b[0m / \u001b[94m--quiet\u001b[0m  Display verbose output to\n",
            "                       stdout and/or stderr during\n",
            "                       execution of this action.\n",
            "                       Or silence output if\n",
            "                       execution is successful\n",
            "                       (silence is golden).\n",
            "  \u001b[94m--example-data\u001b[0m PATH  Write example data and\n",
            "                       exit.\n",
            "  \u001b[94m--citations\u001b[0m          Show citations and exit.\n",
            "  \u001b[94m--help\u001b[0m               Show this message and\n",
            "                       exit.\n",
            "\n",
            "\u001b[33m                  There were some problems with the command:                  \u001b[0m\n",
            "\u001b[31m\u001b[1m (1/2) Invalid value for '--i-tree': tree/rooted_tree.qza does not exist.\u001b[0m\n",
            "\u001b[31m\u001b[1m (2/2) Invalid value for '--o-visualization': Directory 'tree' does not exist,\n",
            "  cannot save 'empress.qzv' into it.\u001b[0m\n",
            "\u001b[0m"
          ]
        }
      ],
      "source": [
        "!qiime empress tree-plot \\\n",
        "    --i-tree tree/rooted_tree.qza \\\n",
        "    --o-visualization tree/empress.qzv"
      ]
    },
    {
      "cell_type": "markdown",
      "metadata": {
        "id": "UmxTRou99a_n"
      },
      "source": [
        "This looks nice but is not particularly informative as is. The main utility of our tree will be in complementing our diversity analyses. It will tell us which ASVs are more or less related to one another, which will allow us to calculate different kinds of ecological diversity metrics. But what are those?\n",
        "\n",
        "---\n",
        "\n",
        "Let's get back to the presentation. 📚\n",
        "\n",
        "---\n",
        "\n",
        "<br>\n",
        "\n",
        "## Alpha and Beta Diversity\n",
        "\n",
        "![sample sources](https://github.com/Gibbons-Lab/isb_course_2023/raw/main/docs/16S/assets/sample_sources.png)\n",
        "\n",
        "One of our main goals will be to compare the microbial composition across different populations. QIIME 2 has \"run-all\" command for diversity analyses. This will\n",
        "\n",
        "1. Subsample our samples to the same total number of reads (Why?)\n",
        "2. Calculate alpha and beta diversity measures\n",
        "3. Visualize PCoA projections"
      ]
    },
    {
      "cell_type": "markdown",
      "metadata": {
        "id": "p-uZBNVX-y2L"
      },
      "source": [
        "## Statistical analyses\n",
        "\n",
        "Let's first have a look at alpha diversity. Can we see a difference in the per-sample diversity across populations?"
      ]
    },
    {
      "cell_type": "code",
      "execution_count": 11,
      "metadata": {
        "id": "0js6xHuw-NqF",
        "outputId": "6eed88e0-3121-4b5e-c45e-f8fc359890f4",
        "colab": {
          "base_uri": "https://localhost:8080/"
        }
      },
      "outputs": [
        {
          "output_type": "stream",
          "name": "stdout",
          "text": [
            "\u001b[31m\u001b[1mThere was an issue with loading the file data/metadata.tsv as metadata:\n",
            "\n",
            "  Metadata file path doesn't exist, or the path points to something other than a file. Please check that the path exists, has read permissions, and points to a regular file (not a directory): data/metadata.tsv\n",
            "\n",
            "  There may be more errors present in the metadata file. To get a full report, sample/feature metadata files can be validated with Keemei: https://keemei.qiime2.org\n",
            "\n",
            "  Find details on QIIME 2 metadata requirements here: https://docs.qiime2.org/2023.7/tutorials/metadata/\u001b[0m\n",
            "\n",
            "\u001b[0m"
          ]
        }
      ],
      "source": [
        "!qiime diversity core-metrics-phylogenetic \\\n",
        "    --i-table dada2/table.qza \\\n",
        "    --i-phylogeny tree/rooted_tree.qza \\\n",
        "    --p-sampling-depth 8000 \\\n",
        "    --m-metadata-file data/metadata.tsv \\\n",
        "    --output-dir diversity"
      ]
    },
    {
      "cell_type": "code",
      "execution_count": 12,
      "metadata": {
        "id": "GnkeX6iY--g-",
        "outputId": "51e7a7dd-782c-4568-dda4-c9157088af6e",
        "colab": {
          "base_uri": "https://localhost:8080/"
        }
      },
      "outputs": [
        {
          "output_type": "stream",
          "name": "stdout",
          "text": [
            "\u001b[31m\u001b[1mThere was an issue with loading the file data/metadata.tsv as metadata:\n",
            "\n",
            "  Metadata file path doesn't exist, or the path points to something other than a file. Please check that the path exists, has read permissions, and points to a regular file (not a directory): data/metadata.tsv\n",
            "\n",
            "  There may be more errors present in the metadata file. To get a full report, sample/feature metadata files can be validated with Keemei: https://keemei.qiime2.org\n",
            "\n",
            "  Find details on QIIME 2 metadata requirements here: https://docs.qiime2.org/2023.7/tutorials/metadata/\u001b[0m\n",
            "\n",
            "\u001b[0m"
          ]
        }
      ],
      "source": [
        "!qiime diversity alpha-group-significance \\\n",
        "    --i-alpha-diversity diversity/shannon_vector.qza \\\n",
        "    --m-metadata-file data/metadata.tsv \\\n",
        "    --o-visualization diversity/alpha_groups.qzv"
      ]
    },
    {
      "cell_type": "markdown",
      "metadata": {
        "id": "ngH5fUeDQMO0"
      },
      "source": [
        "Now, let's use beta diversity to see how different the samples are from one another. First download `diversity/weighted_unifrac_emperor.qzv` and take a look. Do samples separate based on the population?\n",
        "\n",
        "We can check whether that separation is 'significant' by using a PERMANOVA test."
      ]
    },
    {
      "cell_type": "code",
      "execution_count": 13,
      "metadata": {
        "id": "KzNW92riQguX",
        "outputId": "b923d716-f034-4ccc-da0d-a67a121a3473",
        "colab": {
          "base_uri": "https://localhost:8080/"
        }
      },
      "outputs": [
        {
          "output_type": "stream",
          "name": "stdout",
          "text": [
            "\n",
            "Aborted!\n",
            "\u001b[0m"
          ]
        }
      ],
      "source": [
        "!qiime diversity adonis \\\n",
        "    --i-distance-matrix diversity/weighted_unifrac_distance_matrix.qza \\\n",
        "    --m-metadata-file data/metadata.tsv \\\n",
        "    --p-formula \"ethnic_group\" \\\n",
        "    --p-n-jobs 2 \\\n",
        "    --o-visualization diversity/permanova.qzv"
      ]
    },
    {
      "cell_type": "markdown",
      "metadata": {
        "id": "5OgGG9yabL4d"
      },
      "source": [
        "---\n",
        "\n",
        "Let's get back to the presentation. 📚\n",
        "\n",
        "---\n",
        "\n",
        "<br>"
      ]
    },
    {
      "cell_type": "markdown",
      "metadata": {
        "id": "FB7WYPZ1DEoR"
      },
      "source": [
        "# Taxonomy\n",
        "\n",
        "We will use a Bayes classifier trained on the NCBI Refseq database version 212. However, there are many more databases which can be downloaded from https://docs.qiime2.org/2023.8/data-resources/. For instance, the SILVA database is very popular and probably the largest 16S database available right now."
      ]
    },
    {
      "cell_type": "code",
      "execution_count": null,
      "metadata": {
        "id": "EEBbgvnhDGTs"
      },
      "outputs": [],
      "source": [
        "!qiime feature-classifier classify-sklearn \\\n",
        "    --i-reads dada2/representative_sequences.qza \\\n",
        "    --i-classifier ncbi-refseq-genus-515f-806r.qza \\\n",
        "    --p-n-jobs 2 \\\n",
        "    --o-classification taxa.qza"
      ]
    },
    {
      "cell_type": "markdown",
      "metadata": {
        "id": "xISxzBo6Mpka"
      },
      "source": [
        "Now let's have a look at the relative abundances of the different bacterial taxa we have in each sample:"
      ]
    },
    {
      "cell_type": "code",
      "execution_count": null,
      "metadata": {
        "id": "4VTL2yEBMqfO"
      },
      "outputs": [],
      "source": [
        "!qiime taxa barplot \\\n",
        "    --i-table dada2/table.qza \\\n",
        "    --i-taxonomy taxa.qza \\\n",
        "    --m-metadata-file data/metadata.tsv \\\n",
        "    --o-visualization taxa_barplot.qzv"
      ]
    },
    {
      "cell_type": "markdown",
      "metadata": {
        "id": "4_FVM8VfX_yQ"
      },
      "source": [
        "We can also collapse data on a particular taxonomic rank using the QIIME 2 [taxa plugin](https://docs.qiime2.org/2021.4/plugins/available/taxa/). Why might we want to look at different taxonomic ranks, rather than just looking at ASVs?"
      ]
    },
    {
      "cell_type": "code",
      "execution_count": null,
      "metadata": {
        "id": "gl72G8KaYmBm"
      },
      "outputs": [],
      "source": [
        "!qiime taxa collapse \\\n",
        "    --i-table treasure_chest/dada2/table.qza \\\n",
        "    --i-taxonomy treasure_chest/taxa.qza \\\n",
        "    --p-level 6 \\\n",
        "    --o-collapsed-table genus.qza"
      ]
    },
    {
      "cell_type": "markdown",
      "metadata": {
        "id": "dlVdzgfbZcjt"
      },
      "source": [
        "We can export the table and convert it to a .csv file so that we can analyze these data using tools outside of the QIIME 2 environment."
      ]
    },
    {
      "cell_type": "code",
      "execution_count": null,
      "metadata": {
        "id": "ZsxKf3yAZiHk"
      },
      "outputs": [],
      "source": [
        "!qiime tools export \\\n",
        "    --input-path genus.qza \\\n",
        "    --output-path exported\n",
        "!biom convert -i exported/feature-table.biom -o genus.tsv --to-tsv"
      ]
    },
    {
      "cell_type": "markdown",
      "metadata": {
        "id": "TezGLSEGZrcn"
      },
      "source": [
        "Now the data are in a common format and we can use them, for instance, to draw a heatmap using Pandas and Seaborn. No need to understand every bit of code here. This just serves to illustrate that you can get data out of QIIME 2 for custom visualizations."
      ]
    },
    {
      "cell_type": "code",
      "execution_count": null,
      "metadata": {
        "id": "p5zUjU8JZqL4"
      },
      "outputs": [],
      "source": [
        "import numpy as np\n",
        "import pandas as pd\n",
        "import seaborn as sns\n",
        "\n",
        "abundances = pd.read_table(\"genus.tsv\", skiprows=1, index_col=0)\n",
        "abundances.index = abundances.index.str.split(\";\").str[5]       # Use only the genus name\n",
        "abundances = abundances[~abundances.index.isin([\"g__\", \"__\"])]  # remove unclassified genera\n",
        "abundances = abundances.sample(50)                              # use 50 random genera\n",
        "\n",
        "# Let's do a centered log-ratio transform: log x_i - log mean(x)\n",
        "transformed = abundances.apply(\n",
        "    lambda xs: np.log(xs + 0.5) - np.log(xs.mean() + 0.5),\n",
        "    axis=0)\n",
        "\n",
        "sns.clustermap(transformed.T, cmap=\"magma\", xticklabels=True, figsize=(18, 6))"
      ]
    },
    {
      "cell_type": "markdown",
      "metadata": {
        "id": "QbRoCh1BR0GZ"
      },
      "source": [
        "# Exercises\n",
        "\n",
        "Okay, that's enough time in the back seat.\n",
        "\n",
        "It's time to take the wheel 🚗\n",
        "\n",
        "Now you can dive into the data 🏊"
      ]
    },
    {
      "cell_type": "markdown",
      "metadata": {
        "id": "hy5HN4ZoS2-9"
      },
      "source": [
        "## Exercise - Plant a Tree\n",
        "\n",
        "One visualization that we did not spend a lot of time on was the phylogentic tree of our ASVs. Let's change that! We have seen that there are genera that appear in multiple populations in the previous step. But are the organisms in that genus actually the same?\n",
        "\n",
        "Let's annotate the tree with our taxonomic classifications and abundances. We will use the empress plugin again but this time with the `community-plot` option. I filled in a template of the command for you. Can you figure out what has to go in the empty spaces?\n",
        "\n",
        "**QUESTIONS:**\n",
        "\n",
        "1) Are some of the branch lengths on the tree longer than you would expect? Do you notice anything interesting or suspicious about the taxonomic identities of these branches?\n",
        "\n",
        "2) Can you find examples of phyla that are polyphyletic (i.e. where clusters of ASVs from the same phylum are found in different locations on the tree, showing different commmon ancestors)? What about polyphyletic taxa at lower taxonomic levels, like at the family or genus levels? Why do you think these patterns exist?\n",
        "\n",
        "3) Use the \"Shear Tree\" functionality to only visualize the phylogenetic tree of the genus *Prevotella*. What do you observe? Can you figure out which of the unique V4 sequences are found only in one population? What impact might this have on studies trying to link *Prevotella* to human health?"
      ]
    },
    {
      "cell_type": "code",
      "execution_count": null,
      "metadata": {
        "id": "tq9TWRMjkER5"
      },
      "outputs": [],
      "source": [
        "# This won't run until you fill in the [EMPTY] spots with the right files ;)\n",
        "\n",
        "!qiime empress community-plot \\\n",
        "    --i-tree [EMPTY] \\\n",
        "    --i-feature-table dada2/table.qza \\\n",
        "    --m-sample-metadata-file d[EMPTY] \\\n",
        "    --m-feature-metadata-file taxa.qza \\\n",
        "    --o-visualization community-tree-viz.qzv"
      ]
    },
    {
      "cell_type": "markdown",
      "metadata": {
        "id": "tFuoGkWtptmR"
      },
      "source": [
        "<br><br><br>\n",
        "\n",
        "---\n",
        "\n",
        "# 🦠 Space for your own exploration\n",
        "\n",
        "Feel free to use this space to run some additional analyses. If you rerun all the previous cells in the notebook (`Runtime > Run All`) you should be all set to start working on the previously generated artifacts. Remember that you can get help in the Slack channel and also in the [Qiime 2 documentation](https://docs.qiime2.org)."
      ]
    },
    {
      "cell_type": "code",
      "execution_count": null,
      "metadata": {
        "id": "pq919yDYqYoe"
      },
      "outputs": [],
      "source": [
        "# You can add more code cells with the \"+ Code\" button on the top right\n"
      ]
    }
  ],
  "metadata": {
    "colab": {
      "provenance": [],
      "include_colab_link": true
    },
    "kernelspec": {
      "display_name": "Python 3",
      "name": "python3"
    }
  },
  "nbformat": 4,
  "nbformat_minor": 0
}